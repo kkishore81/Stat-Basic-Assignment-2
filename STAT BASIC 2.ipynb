{
 "cells": [
  {
   "cell_type": "code",
   "execution_count": null,
   "id": "4c616123-1e95-427a-8ecd-ee39f32df16a",
   "metadata": {},
   "outputs": [],
   "source": [
    "# Q1. What are the three measures of central tendency?"
   ]
  },
  {
   "cell_type": "code",
   "execution_count": null,
   "id": "a24ae4ec-0a8b-4512-aa82-118450d66195",
   "metadata": {},
   "outputs": [],
   "source": [
    "# The three measures of central tendency are MEAN MEDiAN and MODE"
   ]
  },
  {
   "cell_type": "code",
   "execution_count": null,
   "id": "2d180df7-bd78-4877-bc2f-bea5a608935d",
   "metadata": {},
   "outputs": [],
   "source": [
    "# Q2. What is the difference between the mean, median, and mode? How are they used to measure the central tendency of a dataset?"
   ]
  },
  {
   "cell_type": "code",
   "execution_count": null,
   "id": "424007f5-3158-482a-ad47-e9e83d40c782",
   "metadata": {},
   "outputs": [],
   "source": [
    " #The mean is the average of a dataset, calculated by summing all values and dividing by the total number of values. The median is the middle value in a \n",
    " # dataset when it is arranged in ascending or descending order. The mode is the value that appears most frequently in a dataset. \n",
    " # These measures of central tendency provide different ways  to summarize and understand the typical or central value of a dataset."
   ]
  },
  {
   "cell_type": "code",
   "execution_count": null,
   "id": "a13a781a-cc81-48b7-bb22-41dfb760ab2e",
   "metadata": {},
   "outputs": [],
   "source": [
    "Q3. Measure the three measures of central tendency for the given height data:\n",
    "# [178,177,176,177,178.2,178,175,179,180,175,178.9,176.2,177,172.5,178,176.5]"
   ]
  },
  {
   "cell_type": "code",
   "execution_count": 3,
   "id": "40365af1-c87a-4ba6-8b18-33406090047b",
   "metadata": {},
   "outputs": [],
   "source": [
    "data = [178,177,176,177,178.2,178,175,179,180,175,178.9,176.2,177,172.5,178,176.5]"
   ]
  },
  {
   "cell_type": "code",
   "execution_count": 1,
   "id": "1da5700a-3699-4389-a5a4-f7ef852fdc70",
   "metadata": {},
   "outputs": [],
   "source": [
    "import numpy as np"
   ]
  },
  {
   "cell_type": "code",
   "execution_count": 5,
   "id": "d19f0925-2c14-42da-89a2-633d202562f2",
   "metadata": {},
   "outputs": [
    {
     "data": {
      "text/plain": [
       "177.01875"
      ]
     },
     "execution_count": 5,
     "metadata": {},
     "output_type": "execute_result"
    }
   ],
   "source": [
    "Mean = np.mean(data)"
   ]
  },
  {
   "cell_type": "code",
   "execution_count": 6,
   "id": "75700b94-dc0e-459f-b6e9-a60cd866c0aa",
   "metadata": {},
   "outputs": [
    {
     "data": {
      "text/plain": [
       "177.0"
      ]
     },
     "execution_count": 6,
     "metadata": {},
     "output_type": "execute_result"
    }
   ],
   "source": [
    "Median = np.median(data)"
   ]
  },
  {
   "cell_type": "code",
   "execution_count": 12,
   "id": "91d020ec-b222-4f8b-bd3e-f730bbca6e1f",
   "metadata": {},
   "outputs": [],
   "source": [
    "from scipy import stats"
   ]
  },
  {
   "cell_type": "code",
   "execution_count": 15,
   "id": "3aa0d2a4-b0a8-49bb-964c-76efa2ae9c69",
   "metadata": {},
   "outputs": [
    {
     "name": "stderr",
     "output_type": "stream",
     "text": [
      "/tmp/ipykernel_405/508020538.py:1: FutureWarning: Unlike other reduction functions (e.g. `skew`, `kurtosis`), the default behavior of `mode` typically preserves the axis it acts along. In SciPy 1.11.0, this behavior will change: the default value of `keepdims` will become False, the `axis` over which the statistic is taken will be eliminated, and the value None will no longer be accepted. Set `keepdims` to True or False to avoid this warning.\n",
      "  stats.mode(data)\n"
     ]
    },
    {
     "data": {
      "text/plain": [
       "ModeResult(mode=array([177.]), count=array([3]))"
      ]
     },
     "execution_count": 15,
     "metadata": {},
     "output_type": "execute_result"
    }
   ],
   "source": [
    "stats.mode(data)\n"
   ]
  },
  {
   "cell_type": "code",
   "execution_count": null,
   "id": "5638f1cb-4515-4ddb-94e9-4eb85182c5b0",
   "metadata": {},
   "outputs": [],
   "source": [
    "#Q4. Find the standard deviation for the given data:\n",
    "# [178,177,176,177,178.2,178,175,179,180,175,178.9,176.2,177,172.5,178,176.5]"
   ]
  },
  {
   "cell_type": "code",
   "execution_count": 17,
   "id": "d0422774-9c05-41d3-81ec-e1be8b2f588c",
   "metadata": {},
   "outputs": [],
   "source": [
    "data = [178,177,176,177,178.2,178,175,179,180,175,178.9,176.2,177,172.5,178,176.5]"
   ]
  },
  {
   "cell_type": "code",
   "execution_count": 18,
   "id": "c131d464-e6be-4200-bdbf-21e232ab2dfb",
   "metadata": {},
   "outputs": [
    {
     "data": {
      "text/plain": [
       "1.7885814036548633"
      ]
     },
     "execution_count": 18,
     "metadata": {},
     "output_type": "execute_result"
    }
   ],
   "source": [
    "np.std(data)"
   ]
  },
  {
   "cell_type": "code",
   "execution_count": 21,
   "id": "921b3ae7-41fb-4743-9efd-6e4336e29271",
   "metadata": {},
   "outputs": [],
   "source": [
    "# Q5. How are measures of dispersion such as range, variance, and standard deviation used to describe the spread of a dataset? Provide an example."
   ]
  },
  {
   "cell_type": "code",
   "execution_count": 23,
   "id": "a009e250-9000-4204-a3f2-a4f80f8180ad",
   "metadata": {},
   "outputs": [],
   "source": [
    "# Measures of dispersion, such as range, variance, and standard deviation, quantify the extent to which data points deviate from the central tendency.\n",
    "\n",
    "#For example, let's consider a dataset of exam scores: [85, 78, 92, 88, 95]. The range represents the difference between the highest and lowest values, \n",
    "#which in this case is 17. Variance calculates the average squared deviation from the mean, providing a measure of overall dispersion. Finally, \n",
    "#the standard deviation is the square root of the variance and indicates the typical amount of deviation from the mean, which in this example is approximately 6.12."
   ]
  },
  {
   "cell_type": "code",
   "execution_count": null,
   "id": "03d8b385-ac9e-4b73-a1d8-626b2cb0ada9",
   "metadata": {},
   "outputs": [],
   "source": [
    "# Q6. What is a Venn diagram?"
   ]
  },
  {
   "cell_type": "code",
   "execution_count": 25,
   "id": "5ab3e6ab-be2b-407d-8bf9-af9b8362218e",
   "metadata": {},
   "outputs": [],
   "source": [
    "#A Venn diagram is a graphical representation that uses overlapping circles or shapes to illustrate the relationships between different sets or groups of objects or concepts. \n",
    "#It visually depicts the common elements shared by the sets and the unique elements specific to each set."
   ]
  },
  {
   "cell_type": "code",
   "execution_count": null,
   "id": "6b23085c-130b-44b2-91ff-03c9e5d25fe0",
   "metadata": {},
   "outputs": [],
   "source": [
    "#Q7. For the two given sets A = (2,3,4,5,6,7) & B = (0,2,6,8,10). Find:\n",
    "#(i) A  B\n",
    "#(ii) A ⋃ B"
   ]
  },
  {
   "cell_type": "code",
   "execution_count": null,
   "id": "5aab8520-abaf-468a-9388-ed8df75d2475",
   "metadata": {},
   "outputs": [],
   "source": [
    "#(i) A ∩ B (intersection of A and B): {2, 6}\n",
    "\n",
    "#(ii) A ∪ B (union of A and B): {0, 2, 3, 4, 5, 6, 7, 8, 10}"
   ]
  },
  {
   "cell_type": "code",
   "execution_count": null,
   "id": "c51b8e89-ec2f-4c37-ae1a-e567e9d88f78",
   "metadata": {},
   "outputs": [],
   "source": [
    "# Q8. What do you understand about skewness in data?"
   ]
  },
  {
   "cell_type": "code",
   "execution_count": 26,
   "id": "fb9cf52d-7a12-45fa-8041-eb53267e421c",
   "metadata": {},
   "outputs": [],
   "source": [
    "# Skewness in data refers to the measure of asymmetry or lack of symmetry in the distribution of values. It indicates whether the data is skewed to the left (negative skewness), skewed to the right (positive skewness), \n",
    "# or approximately symmetrical (zero skewness)."
   ]
  },
  {
   "cell_type": "code",
   "execution_count": null,
   "id": "87e9eb56-cb61-48c6-a501-d52f9f133c9d",
   "metadata": {},
   "outputs": [],
   "source": [
    "#Q9. If a data is right skewed then what will be the position of median with respect to mean?"
   ]
  },
  {
   "cell_type": "code",
   "execution_count": null,
   "id": "ebfb0abc-23d3-4f57-9f84-3bcbbd6b8edc",
   "metadata": {},
   "outputs": [],
   "source": [
    " # If a data is right skewed, the median will  be lower than the mean."
   ]
  },
  {
   "cell_type": "code",
   "execution_count": null,
   "id": "84898d3a-5b48-440f-a38d-02f14f4e62fd",
   "metadata": {},
   "outputs": [],
   "source": [
    "#Q10. Explain the difference between covariance and correlation. How are these measures used in statistical analysis?"
   ]
  },
  {
   "cell_type": "code",
   "execution_count": 27,
   "id": "e537e9a4-5656-4283-8b86-3fee3f09b235",
   "metadata": {},
   "outputs": [],
   "source": [
    "# Covariance measures the extent to which two variables vary together. It can be positive (direct relationship), negative (inverse relationship), or zero (no relationship). Correlation, on the other hand,\n",
    "# standardizes the covariance to a range between -1 and 1, providing a measure of the linear relationship strength and direction between variables.\n",
    "# Both measures are used in statistical analysis to assess relationships and dependencies between variables, with correlation being more commonly used due to its standardized interpretation."
   ]
  },
  {
   "cell_type": "code",
   "execution_count": null,
   "id": "27987980-c461-459f-bd1d-c780eb467dd5",
   "metadata": {},
   "outputs": [],
   "source": [
    "Q11. What is the formula for calculating the sample mean? Provide an example calculation for a dataset."
   ]
  },
  {
   "cell_type": "code",
   "execution_count": 29,
   "id": "89d114c7-4bfe-42e3-a4ef-24889ab0348c",
   "metadata": {},
   "outputs": [],
   "source": [
    "# teh formula for sample mean is \n",
    "# x̄ = (∑xi)/n\n",
    "# where:\n",
    "\n",
    "# x̄ is the sample mean\n",
    "# xi is the individual data point\n",
    "# ∑ is the summation symbol\n",
    "# n is the sample size\n",
    "\n"
   ]
  },
  {
   "cell_type": "code",
   "execution_count": null,
   "id": "b7e8034e-80d4-413b-aeab-a59816de0ce2",
   "metadata": {},
   "outputs": [],
   "source": [
    "dataset of heights in centimeters for 5 people: [170, 175, 180, 165, 172] The sample mean for this dataset would be calculated as follows:\n",
    "    \n",
    "\n",
    "x̄ = (170 + 175 + 180 + 165 + 172)/5 = 173 cm"
   ]
  },
  {
   "cell_type": "code",
   "execution_count": null,
   "id": "d28a8d28-084f-4659-b52b-38578f405562",
   "metadata": {},
   "outputs": [],
   "source": [
    "# Q12. For a normal distribution data what is the relationship between its measure of central tendency?"
   ]
  },
  {
   "cell_type": "code",
   "execution_count": 41,
   "id": "419da1b3-b44b-4568-af43-b1fbf8c60d92",
   "metadata": {},
   "outputs": [],
   "source": [
    "# For a normal distribution, the mean, median, and mode are all equal and located at the center of the distribution. They coincide and have the same value, resulting in a symmetric bell-shaped curve."
   ]
  },
  {
   "cell_type": "code",
   "execution_count": null,
   "id": "8784b4f6-d2ec-42ad-8a94-aff7db36e504",
   "metadata": {},
   "outputs": [],
   "source": [
    "Q13. How is covariance different from correlation?"
   ]
  },
  {
   "cell_type": "code",
   "execution_count": null,
   "id": "e34c8bf6-4ab2-4def-bd71-06985e02c629",
   "metadata": {},
   "outputs": [],
   "source": [
    "# Covariance measures the extent and direction of the linear relationship between two variables but does not provide a standardized interpretation. Correlation, on the other hand,\n",
    "# not only measures the strength and direction of the linear relationship but also standardizes the values to a range between -1 and 1, making it easier to compare and interpret the relationship between variables."
   ]
  },
  {
   "cell_type": "code",
   "execution_count": null,
   "id": "1a4ea0df-c7d8-4b9a-b296-85ce869d1924",
   "metadata": {},
   "outputs": [],
   "source": [
    "# Q14. How do outliers affect measures of central tendency and dispersion? Provide an example."
   ]
  },
  {
   "cell_type": "code",
   "execution_count": null,
   "id": "61724c1f-9d2d-4678-bf5a-65c83a47c90d",
   "metadata": {},
   "outputs": [],
   "source": [
    "# Outliers can affect measures of central tendency and dispersion by pulling the mean and standard deviation away from the rest of the data. For example, if you have a dataset of heights with a few very tall outliers,\n",
    "# the mean and standard deviation will be higher than they would be if the outliers were not included.\n",
    "\n",
    "# Here is an example:\n",
    "\n",
    "# heights = [170, 175, 180, 165, 172, 200, 210, 185]\n",
    "\n",
    "# mean = sum(heights) / len(heights)\n",
    "\n",
    "# Without the outliers, the mean is 175.\n",
    "# With the outliers, the mean is 182.5.\n",
    "# As we can see, the mean of the dataset is pulled up by the outliers. This is because the outliers are much higher than the rest of the data, so they have a greater influence on the mean."
   ]
  }
 ],
 "metadata": {
  "kernelspec": {
   "display_name": "Python 3 (ipykernel)",
   "language": "python",
   "name": "python3"
  },
  "language_info": {
   "codemirror_mode": {
    "name": "ipython",
    "version": 3
   },
   "file_extension": ".py",
   "mimetype": "text/x-python",
   "name": "python",
   "nbconvert_exporter": "python",
   "pygments_lexer": "ipython3",
   "version": "3.10.8"
  }
 },
 "nbformat": 4,
 "nbformat_minor": 5
}
